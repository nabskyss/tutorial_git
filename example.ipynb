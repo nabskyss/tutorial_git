{
 "cells": [
  {
   "cell_type": "code",
   "execution_count": 1,
   "id": "d687f468-5105-455a-a2c3-ea5708bb119f",
   "metadata": {},
   "outputs": [
    {
     "name": "stdout",
     "output_type": "stream",
     "text": [
      "Helow World\n"
     ]
    }
   ],
   "source": [
    "print ('Helow World')"
   ]
  },
  {
   "cell_type": "code",
   "execution_count": null,
   "id": "9da71f4c-4081-41a9-bb4c-cffc419b12ac",
   "metadata": {},
   "outputs": [],
   "source": []
  }
 ],
 "metadata": {
  "kernelspec": {
   "display_name": "Python 3 (ipykernel)",
   "language": "python",
   "name": "python3"
  },
  "language_info": {
   "codemirror_mode": {
    "name": "ipython",
    "version": 3
   },
   "file_extension": ".py",
   "mimetype": "text/x-python",
   "name": "python",
   "nbconvert_exporter": "python",
   "pygments_lexer": "ipython3",
   "version": "3.10.9"
  }
 },
 "nbformat": 4,
 "nbformat_minor": 5
}
